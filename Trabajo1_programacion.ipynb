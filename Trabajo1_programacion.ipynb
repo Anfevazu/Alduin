{
  "nbformat": 4,
  "nbformat_minor": 0,
  "metadata": {
    "colab": {
      "name": "Trabajo1_programacion.ipynb",
      "provenance": [],
      "collapsed_sections": [],
      "include_colab_link": true
    },
    "kernelspec": {
      "name": "python3",
      "display_name": "Python 3"
    }
  },
  "cells": [
    {
      "cell_type": "markdown",
      "metadata": {
        "id": "view-in-github",
        "colab_type": "text"
      },
      "source": [
        "<a href=\"https://colab.research.google.com/github/Anfevazu/Alduin/blob/master/Trabajo1_programacion.ipynb\" target=\"_parent\"><img src=\"https://colab.research.google.com/assets/colab-badge.svg\" alt=\"Open In Colab\"/></a>"
      ]
    },
    {
      "cell_type": "markdown",
      "metadata": {
        "id": "9OTpBrR7XI_N",
        "colab_type": "text"
      },
      "source": [
        "## **Fundamentos de programación para analítica de datos.**\n",
        ">>**Maestría en Analítica de Datos**\n",
        "\n",
        ">>**Facultad de Ingeniería y Ciencias Básicas.**\n",
        "\n",
        ">>**Universidad Central  2020 - I**\n",
        "\n",
        ">>**Trabajo 1, Notebook para el cálculo de la integral**\n",
        "\n",
        "> >*Integrantes: -*\n",
        "\n",
        ">**Tema:**\n",
        "\n",
        ">* Introducción a Python - funciones en python\n",
        ">* Manejo de errores en Python\n",
        "\n",
        ">---"
      ]
    },
    {
      "cell_type": "code",
      "metadata": {
        "id": "jBEeNMOsGJdd",
        "colab_type": "code",
        "outputId": "7cde1db1-8a27-4c92-b053-a628fce3b87c",
        "colab": {
          "base_uri": "https://localhost:8080/",
          "height": 299
        }
      },
      "source": [
        "#------------------------------------------------------------------------#\n",
        "import matplotlib.pyplot as plt\n",
        "import numpy as np\n",
        "\n",
        "# funcion que grafica la funcion seno \n",
        "def graficate_sin(xInicial, xFinal):\n",
        "    plt.plot(np.linspace(xInicial, xFinal), np.sin(np.linspace(xInicial, xFinal)))\n",
        "    return np.linspace(xInicial, xFinal), np.sin(np.linspace(xInicial, xFinal))\n",
        "\n",
        "# funcion que grafica la funcion coseno\n",
        "def graficate_cos(xInicial, xFinal):\n",
        "    plt.plot(np.linspace(xInicial, xFinal), np.cos(np.linspace(xInicial, xFinal)))\n",
        "    return np.linspace(xInicial, xFinal), np.cos(np.linspace(xInicial, xFinal))\n",
        "\n",
        "\n",
        "# funcion que grafica tangente \n",
        "def graficate_tan(xInicial, xFinal):\n",
        "    plt.plot(np.linspace(xInicial, xFinal), np.tan(np.linspace(xInicial, xFinal)))\n",
        "    return np.linspace(xInicial, xFinal), np.tan(np.linspace(xInicial, xFinal))\n",
        "\n",
        "\n",
        "# funcion que grafica exponential  \n",
        "def graficate_exp(xInicial, xFinal):\n",
        "    plt.plot(np.linspace(xInicial, xFinal), np.exp(np.linspace(xInicial, xFinal)))\n",
        "    return np.linspace(xInicial, xFinal), np.exp(np.linspace(xInicial, xFinal))\n",
        "#------------------------------------------------------------------------#\n",
        "#------------------------------------------------------------------------#\n",
        "# Funtion calculate area down the curve \n",
        "# 1 Seno\n",
        "# 2 coseno\n",
        "# 3 tangente\n",
        "# 4 exponencial\n",
        "\n",
        "def calculate_integral(x_initial, x_final, function=4, interval=20):\n",
        "    if type(x_initial) is str or type(x_final) is str or type(function) is str or type(interval) is str : \n",
        "        print(\"NO se permiten valores de texto para realizar los calculos\")\n",
        "        return \"Error\"\n",
        "\n",
        "    # calculando integral de la funcion seno\n",
        "    if function == 1:\n",
        "        area = calculate_taylor_sen_x(x_final, interval) - calculate_taylor_sen_x(x_initial, interval)\n",
        "        print(\"El area bajo la curva para la funtion seno(x) para los puntos : \", \"Xo=\",x_initial ,\",\", \"X1=\",x_final, \" es igual a : \", abs(area))\n",
        "        x, y = graficate_sin(x_initial, x_final)\n",
        "        return abs(area)\n",
        "    elif function == 2:\n",
        "        area = calculate_taylor_cos_x(x_final, interval) - calculate_taylor_cos_x(x_initial, interval)\n",
        "        print(\"El area bajo la curva para la funtion cos(x) para los puntos : \", \"Xo=\",x_initial ,\",\", \"X1=\",x_final, \" es igual a : \", abs(area))\n",
        "        graficate_cos(x_initial, x_final)\n",
        "        return abs(area)\n",
        "    elif function == 3:\n",
        "        area = calculate_taylor_tan_x(x_final, interval) - calculate_taylor_tan_x(x_initial, interval)\n",
        "        print(\"El area bajo la curva para la funtion tan(x) para los puntos : \", \"Xo=\",x_initial ,\",\", \"X1=\",x_final, \" es igual a : \", abs(area))\n",
        "        graficate_tan(x_initial, x_final)\n",
        "        return abs(area)\n",
        "    else :\n",
        "        area = funtion_exponential(x_final, interval) - funtion_exponential(x_initial, interval)\n",
        "        print(\"El area bajo la curva para la funtion tan(x) para los puntos : \", \"Xo=\",x_initial ,\",\", \"X1=\",x_final, \" es igual a : \", abs(area))\n",
        "        graficate_exp(x_initial, x_final)\n",
        "        return abs(area)\n",
        "    \n",
        "#------------------------------------------------------------------------#\n",
        "# calculata funtion seno taylor series \n",
        "def calculate_taylor_sen_x(point, interval):\n",
        "    suma = 0\n",
        "    for i in range(interval):\n",
        "        suma += taylor_sin_x(point,i)\n",
        "    return suma\n",
        "\n",
        "# funtion taylor for sinx\n",
        "def taylor_sin_x(point, point_interval):\n",
        "    numerator = ((-1)**(point_interval)) * (point**((2*point_interval)+1))\n",
        "    denominator = factorial((2*point_interval)+1)\n",
        "\n",
        "    return numerator / denominator\n",
        "\n",
        "#-------------------------------------------------------------------------#\n",
        "# calculata funtion coseno taylor series \n",
        "def calculate_taylor_cos_x(point, interval):\n",
        "    suma = 0\n",
        "    for i in range(interval):\n",
        "        suma += taylor_cos_x(point,i)\n",
        "    return suma\n",
        "\n",
        "# funtion taylor for cosx\n",
        "def taylor_cos_x(point, point_interval):\n",
        "    numerator = ((-1)**(point_interval)) * (point**(2*point_interval))\n",
        "    denominator = factorial(2*point_interval) \n",
        "\n",
        "    return numerator / denominator\n",
        "#-------------------------------------------------------------------------#\n",
        "# calculata funtion tangente taylor series \n",
        "def calculate_taylor_tan_x(point, interval):\n",
        "    suma = 0\n",
        "    for i in range(interval):\n",
        "        suma += taylor_tan_x(point,i)\n",
        "    return suma\n",
        "\n",
        "# funtion taylor for tanx \n",
        "def taylor_tan_x(point, point_interval):\n",
        "    numerator = (calculate_bernoulli_number(point_interval * 2) * ((-4)** point_interval) * (1- 4** point_interval)) * (point ** (( 2 * point_interval) - 1))\n",
        "    denominator = factorial(2*point_interval)\n",
        "\n",
        "    return numerator / denominator\n",
        "\n",
        "# Number of Bernoulli\n",
        "def calculate_bernoulli_number(number):\n",
        "    EULER = 2.7182818284590455    \n",
        "    return abs(number) / (EULER ** abs(number))\n",
        "#-------------------------------------------------------------------------#\n",
        "\n",
        "# funtion exponential \n",
        "def funtion_exponential(point, interval):\n",
        "    suma = 0\n",
        "    for i in range(interval):\n",
        "        suma += calculate_exponential(point,i)\n",
        "    return suma\n",
        "\n",
        "def calculate_exponential(point, point_interval):\n",
        "    return (point ** point_interval) / factorial(point_interval)\n",
        "\n",
        "#-------------------------------------------------------------------------#\n",
        "\n",
        "# Factorial function \n",
        "def factorial(number): \n",
        "    if number <= 1: \n",
        "        return 1 \n",
        "    else:\n",
        "        return number * factorial(number-1)\n",
        "#------------------------------------------------------------------------#\n",
        "\n",
        "\n",
        "# calcular integral \n",
        "calculate_integral(-1.5, -7, 1, 10)"
      ],
      "execution_count": 1,
      "outputs": [
        {
          "output_type": "stream",
          "text": [
            "El area bajo la curva para la funtion seno(x) para los puntos :  Xo= -1.5 , X1= -7  es igual a :  0.3504628724887724\n"
          ],
          "name": "stdout"
        },
        {
          "output_type": "execute_result",
          "data": {
            "text/plain": [
              "0.3504628724887724"
            ]
          },
          "metadata": {
            "tags": []
          },
          "execution_count": 1
        },
        {
          "output_type": "display_data",
          "data": {
            "image/png": "[encoded data removed]",
            "text/plain": [
              "<Figure size 432x288 with 1 Axes>"
            ]
          },
          "metadata": {
            "tags": []
          }
        }
      ]
    }
  ]
}